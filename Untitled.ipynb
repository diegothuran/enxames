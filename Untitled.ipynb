{
 "cells": [
  {
   "cell_type": "code",
   "execution_count": 1,
   "metadata": {},
   "outputs": [],
   "source": [
    "import pandas as pd"
   ]
  },
  {
   "cell_type": "code",
   "execution_count": 5,
   "metadata": {},
   "outputs": [],
   "source": [
    "database = pd.read_csv('imdb_2_classes.csv', header=None)"
   ]
  },
  {
   "cell_type": "code",
   "execution_count": 6,
   "metadata": {},
   "outputs": [],
   "source": [
    "database = database.drop(0)\n",
    "database = database.drop(0, axis=1)"
   ]
  },
  {
   "cell_type": "code",
   "execution_count": 8,
   "metadata": {
    "scrolled": true
   },
   "outputs": [
    {
     "data": {
      "text/plain": [
       "array([[1.        , 0.06757595, 0.07578921, ..., 0.03492673, 0.03992831,\n",
       "        0.03015853],\n",
       "       [0.06757595, 1.        , 0.04385638, ..., 0.05736905, 0.05271199,\n",
       "        0.04572212],\n",
       "       [0.07578921, 0.04385638, 1.        , ..., 0.06439958, 0.03785232,\n",
       "        0.02939478],\n",
       "       ...,\n",
       "       [0.03492673, 0.05736905, 0.06439958, ..., 1.        , 0.03079864,\n",
       "        0.04484083],\n",
       "       [0.03992831, 0.05271199, 0.03785232, ..., 0.03079864, 1.        ,\n",
       "        0.01820728],\n",
       "       [0.03015853, 0.04572212, 0.02939478, ..., 0.04484083, 0.01820728,\n",
       "        1.        ]])"
      ]
     },
     "execution_count": 8,
     "metadata": {},
     "output_type": "execute_result"
    }
   ],
   "source": [
    "database.values"
   ]
  },
  {
   "cell_type": "code",
   "execution_count": null,
   "metadata": {},
   "outputs": [],
   "source": []
  }
 ],
 "metadata": {
  "kernelspec": {
   "display_name": "Python 3",
   "language": "python",
   "name": "python3"
  },
  "language_info": {
   "codemirror_mode": {
    "name": "ipython",
    "version": 3
   },
   "file_extension": ".py",
   "mimetype": "text/x-python",
   "name": "python",
   "nbconvert_exporter": "python",
   "pygments_lexer": "ipython3",
   "version": "3.6.5"
  }
 },
 "nbformat": 4,
 "nbformat_minor": 2
}
